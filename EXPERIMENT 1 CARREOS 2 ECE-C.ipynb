{
 "cells": [
  {
   "cell_type": "markdown",
   "id": "e94207c7-0873-4e81-a06a-d5b732372b13",
   "metadata": {},
   "source": [
    "# EXPERIMENT 1\n",
    "# INTRODUCTION TO PYTHON PROGRAMMING"
   ]
  },
  {
   "cell_type": "markdown",
   "id": "cfc0d3d8-96d5-4a99-90b1-a59e96c5f3b9",
   "metadata": {},
   "source": [
    "### ALPHABET SOUP PROBLEM: Create a function that takes a string and returns a string with its letters"
   ]
  },
  {
   "cell_type": "markdown",
   "id": "44fcf1b7-33d9-405a-a5a1-d8500ca6b665",
   "metadata": {},
   "source": [
    "### in alphabetical order.\n",
    "Example:   \n",
    "alphabet_soup(“hello”) ➞ ehllo\n",
    "alphabet_soup(“hacker”) ➞ acehkr"
   ]
  },
  {
   "cell_type": "code",
   "execution_count": 63,
   "id": "5a1226da-5c6e-4ba8-96e1-0d6a0c46c7bd",
   "metadata": {},
   "outputs": [
    {
     "name": "stdout",
     "output_type": "stream",
     "text": [
      "ehllo\n",
      "acehkr\n"
     ]
    }
   ],
   "source": [
    "def alphabet_soup(s):\n",
    "    # Convert string to a list\n",
    "    word = sorted(s)\n",
    "    \n",
    "    # Sort the list\n",
    "    word.sort()\n",
    "    \n",
    "    # Convert the sorted list back into a string again\n",
    "    arrangedword = ''.join(word)\n",
    "    \n",
    "    return arrangedword\n",
    "\n",
    "print(alphabet_soup(\"hello\"))\n",
    "print(alphabet_soup(\"hacker\"))"
   ]
  },
  {
   "cell_type": "markdown",
   "id": "588cbf43-102e-4c35-9c08-a59b7caa0ae8",
   "metadata": {},
   "source": [
    "### EMOTICON PROBLEM: Create a function that changes specific words into emoticons. Given a sentence"
   ]
  },
  {
   "cell_type": "markdown",
   "id": "61c14506-5a54-4b68-b515-7c4358f63131",
   "metadata": {},
   "source": [
    "### as a string, replace the words smile, grin, sad and mad with their corresponding emoticon:"
   ]
  },
  {
   "cell_type": "code",
   "execution_count": 71,
   "id": "c5c3d434-ac17-4e76-a392-ac0b871cc31f",
   "metadata": {},
   "outputs": [
    {
     "name": "stdout",
     "output_type": "stream",
     "text": [
      "Make me :)\n",
      "I am >:(\n"
     ]
    }
   ],
   "source": [
    "def emoticons(sentence):\n",
    "    # Create a dictionary with words as keys with corresponding emoticons as values\n",
    "    emoticons = {\n",
    "        \"smile\": \":)\",\n",
    "        \"grin\": \":D\",\n",
    "        \"sad\": \":((\",\n",
    "        \"mad\": \">:(\"\n",
    "    }\n",
    "    \n",
    "    # Convert the sentence into words\n",
    "    words = sentence.split()\n",
    "    \n",
    "    # Replace the words in the sentence with the emoticons\n",
    "    for w, word in enumerate(words):\n",
    "        if word in emoticons:\n",
    "            words[w] = emoticons[word]\n",
    "    \n",
    "    # Turn the words into a sentence\n",
    "    return ' '.join(words)\n",
    "\n",
    "# Example\n",
    "print(emoticons(\"Make me smile\"))  \n",
    "print(emoticons(\"I am mad\"))        "
   ]
  },
  {
   "cell_type": "markdown",
   "id": "ad99651e-b9c7-4365-a144-4def76243aa4",
   "metadata": {},
   "source": [
    "### UNPACKING LIST PROBLEM: Unpack the list writeyourcodehere into three variables, being first,"
   ]
  },
  {
   "cell_type": "markdown",
   "id": "09ae2dfc-365f-46c4-a411-425a6b13a17c",
   "metadata": {},
   "source": [
    "### middle, and last, with middle being everything in between the first and last element. Then print all three"
   ]
  },
  {
   "cell_type": "markdown",
   "id": "c86c8ffc-2cfc-49ed-8bee-bd5cc5b8393e",
   "metadata": {},
   "source": [
    "### variables."
   ]
  },
  {
   "cell_type": "code",
   "execution_count": 75,
   "id": "eb2337b9-d594-4363-9912-11666d1a6d1f",
   "metadata": {},
   "outputs": [
    {
     "name": "stdout",
     "output_type": "stream",
     "text": [
      "first: 1\n",
      "middle: [2, 3, 4, 5]\n",
      "last: 6\n"
     ]
    }
   ],
   "source": [
    "def unpacklist(list):\n",
    "    # Unpack the list into three variables: first, middle, and last\n",
    "    first = list[0]\n",
    "    last = list[-1]\n",
    "    middle = list[1:-1]\n",
    "    \n",
    "    # Print the results\n",
    "    print(f\"first: {first}\")\n",
    "    print(f\"middle: {middle}\")\n",
    "    print(f\"last: {last}\")\n",
    "\n",
    "\n",
    "list = [1,2,3,4,5,6]\n",
    "unpacklist(list)"
   ]
  }
 ],
 "metadata": {
  "kernelspec": {
   "display_name": "Python 3 (ipykernel)",
   "language": "python",
   "name": "python3"
  },
  "language_info": {
   "codemirror_mode": {
    "name": "ipython",
    "version": 3
   },
   "file_extension": ".py",
   "mimetype": "text/x-python",
   "name": "python",
   "nbconvert_exporter": "python",
   "pygments_lexer": "ipython3",
   "version": "3.12.4"
  }
 },
 "nbformat": 4,
 "nbformat_minor": 5
}
